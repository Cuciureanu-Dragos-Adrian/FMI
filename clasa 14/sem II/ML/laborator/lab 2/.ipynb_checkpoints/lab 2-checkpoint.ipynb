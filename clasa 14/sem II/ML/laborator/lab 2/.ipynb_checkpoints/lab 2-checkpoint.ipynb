{
 "cells": [
  {
   "cell_type": "code",
   "execution_count": 10,
   "id": "d32394b4",
   "metadata": {},
   "outputs": [
    {
     "data": {
      "image/png": "[encoded data removed]",
      "text/plain": [
       "<Figure size 432x288 with 1 Axes>"
      ]
     },
     "metadata": {
      "needs_background": "light"
     },
     "output_type": "display_data"
    },
    {
     "name": "stdout",
     "output_type": "stream",
     "text": [
      "[[  0.   0.   0.   0.   0.   0.   0.   0.   0.   0.   0.   0.   0.   0.\n",
      "    0.   0.   0.   0.   0.   0.   0.   0.   0.   0.   0.   0.   0.   0.]\n",
      " [  0.   0.   0.   0.   0.   0.   0.   0.   0.   0.   0.   0.   0.   0.\n",
      "    0.   0.   0.   0.   0.   0.   0.   0.   0.   0.   0.   0.   0.   0.]\n",
      " [  0.   0.   0.   0.   0.   0.   0.   0.   0.   0.   0.   0.   0.   0.\n",
      "    0.   0.   0.   0.   0.   0.   0.   0.   0.   0.   0.   0.   0.   0.]\n",
      " [  0.   0.   0.   0.   0.   0.   0.   0.   0.   0.   0.   0.   0.   0.\n",
      "    0.   0.   0.   0.   0.   0.   0.   0.   0.   0.   0.   0.   0.   0.]\n",
      " [  0.   0.   0.   0.   0.   0.   0.   0.   0.   0.   0.   0.   0.   0.\n",
      "    0.   0.   0.   0.   0.   0.   0.   0.   0.   0.   0.   0.   0.   0.]\n",
      " [  0.   0.   0.   0.   0.   0.   0.   0.   0.   0.   5.   5.   0.   0.\n",
      "    0.   0.   0.   0.   0.   0. 110. 255. 197.   3.   0.   0.   0.   0.]\n",
      " [  0.   0.   0.   0.   0.   0.   0.   0.   0.  27. 214. 230. 107.   0.\n",
      "    0.   0.   0.   0.   0.   5. 231. 253. 253.  12.   0.   0.   0.   0.]\n",
      " [  0.   0.   0.   0.   0.   0.   0.   0.   0. 161. 253. 253. 229.  48.\n",
      "    0.   0.   0.   0.   0.  51. 242. 253. 253. 199.   0.   0.   0.   0.]\n",
      " [  0.   0.   0.   0.   0.   0.   0.   0.   4. 170. 253. 253. 253. 191.\n",
      "    0.   0.   0.   0.   0. 112. 253. 253. 253. 241.   0.   0.   0.   0.]\n",
      " [  0.   0.   0.   0.   0.   0.   0.   0.  47. 253. 253. 253. 253. 176.\n",
      "    0.   0.   0.   0.  73. 242. 253. 253. 253. 129.   0.   0.   0.   0.]\n",
      " [  0.   0.   0.   0.   0.   0.   0.  16. 218. 253. 253. 253. 199.  25.\n",
      "    0.   0.   0.   0. 217. 253. 253. 253. 253. 208.   0.   0.   0.   0.]\n",
      " [  0.   0.   0.   0.   0.   0.  25. 126. 253. 253. 253. 223.  61.   0.\n",
      "    0.   0.   0.  79. 241. 253. 253. 253. 253. 232.   0.   0.   0.   0.]\n",
      " [  0.   0.   0.   0.   0.   9. 219. 253. 253. 253. 245.  65.   0.   0.\n",
      "    0.   0. 140. 240. 253. 253. 253. 253. 253. 129.   0.   0.   0.   0.]\n",
      " [  0.   0.   0.   0.   2. 127. 253. 253. 253. 253. 241. 155.  56.  56.\n",
      "   56. 153. 239. 253. 253. 253. 253. 253. 253. 129.   0.   0.   0.   0.]\n",
      " [  0.   0.   0.   0. 128. 253. 253. 253. 253. 253. 253. 253. 253. 253.\n",
      "  253. 253. 253. 253. 253. 253. 253. 253. 253.  38.   0.   0.   0.   0.]\n",
      " [  0.   0.   0.   0. 194. 253. 253. 253. 253. 253. 253. 253. 253. 253.\n",
      "  253. 253. 253. 253. 253. 253. 253. 253. 253. 100.   0.   0.   0.   0.]\n",
      " [  0.   0.   0.   0. 181. 253. 253. 253. 253. 253. 253. 253. 253. 253.\n",
      "  253. 253. 253. 253. 253. 253. 253. 253. 253.  93.   0.   0.   0.   0.]\n",
      " [  0.   0.   0.   0.   2.  55. 172. 172. 182. 241. 172. 172. 172. 192.\n",
      "  253. 253. 253. 253. 224. 172.  61.  49.  49.   1.   0.   0.   0.   0.]\n",
      " [  0.   0.   0.   0.   0.   0.   0.   9. 157.  82.   0.   0.   0.  63.\n",
      "  253. 253. 253. 253.  57.   0.   0.   0.   0.   0.   0.   0.   0.   0.]\n",
      " [  0.   0.   0.   0.   0.   0.   0.   4.  32.   0.   0.   0.   0. 108.\n",
      "  253. 253. 253. 176.  23.   0.   0.   0.   0.   0.   0.   0.   0.   0.]\n",
      " [  0.   0.   0.   0.   0.   0.   0.   0.   0.   0.   0.   0.  50. 245.\n",
      "  253. 253. 222.  26.   0.   0.   0.   0.   0.   0.   0.   0.   0.   0.]\n",
      " [  0.   0.   0.   0.   0.   0.   0.   0.   0.   0.   0.  21. 199. 253.\n",
      "  253. 253.  61.   0.   0.   0.   0.   0.   0.   0.   0.   0.   0.   0.]\n",
      " [  0.   0.   0.   0.   0.   0.   0.   0.   0.   0.   0.  50. 253. 253.\n",
      "  253. 253.  49.   0.   0.   0.   0.   0.   0.   0.   0.   0.   0.   0.]\n",
      " [  0.   0.   0.   0.   0.   0.   0.   0.   0.   0.   0.   3. 183. 253.\n",
      "  253. 219.  26.   0.   0.   0.   0.   0.   0.   0.   0.   0.   0.   0.]\n",
      " [  0.   0.   0.   0.   0.   0.   0.   0.   0.   0.   0.   0. 180. 253.\n",
      "  253. 179.   0.   0.   0.   0.   0.   0.   0.   0.   0.   0.   0.   0.]\n",
      " [  0.   0.   0.   0.   0.   0.   0.   0.   0.   0.   0.   0.   0.   0.\n",
      "    0.   0.   0.   0.   0.   0.   0.   0.   0.   0.   0.   0.   0.   0.]\n",
      " [  0.   0.   0.   0.   0.   0.   0.   0.   0.   0.   0.   0.   0.   0.\n",
      "    0.   0.   0.   0.   0.   0.   0.   0.   0.   0.   0.   0.   0.   0.]\n",
      " [  0.   0.   0.   0.   0.   0.   0.   0.   0.   0.   0.   0.   0.   0.\n",
      "    0.   0.   0.   0.   0.   0.   0.   0.   0.   0.   0.   0.   0.   0.]]\n"
     ]
    }
   ],
   "source": [
    "import numpy as np\n",
    "import matplotlib.pyplot as plt\n",
    "\n",
    "train_images = np.loadtxt('data/train_images.txt') # incarcam imaginile\n",
    "train_labels = np.loadtxt('data/train_labels.txt', 'int') # incarcam etichetele avand\n",
    "\n",
    " # tipul de date int\n",
    "image = train_images[0, :] # prima imagine\n",
    "image = np.reshape(image, (28, 28))\n",
    "\n",
    "plt.imshow(image.astype(np.uint8), cmap='gray')\n",
    "plt.show()\n",
    "\n",
    "\n",
    "print(image)"
   ]
  },
  {
   "cell_type": "code",
   "execution_count": 9,
   "id": "dac7ecf7",
   "metadata": {},
   "outputs": [
    {
     "name": "stdout",
     "output_type": "stream",
     "text": [
      "[[0 0 0 0 0 0 0 0 0 0 0 0 0 0 0 0 0 0 0 0 0 0 0 0 0 0 0 0]\n",
      " [0 0 0 0 0 0 0 0 0 0 0 0 0 0 0 0 0 0 0 0 0 0 0 0 0 0 0 0]\n",
      " [0 0 0 0 0 0 0 0 0 0 0 0 0 0 0 0 0 0 0 0 0 0 0 0 0 0 0 0]\n",
      " [0 0 0 0 0 0 0 0 0 0 0 0 0 0 0 0 0 0 0 0 0 0 0 0 0 0 0 0]\n",
      " [0 0 0 0 0 0 0 0 0 0 0 0 0 0 0 0 0 0 0 0 0 0 0 0 0 0 0 0]\n",
      " [0 0 0 0 0 0 0 0 0 0 0 0 0 0 0 0 0 0 0 0 1 4 3 0 0 0 0 0]\n",
      " [0 0 0 0 0 0 0 0 0 0 3 3 1 0 0 0 0 0 0 0 3 3 3 0 0 0 0 0]\n",
      " [0 0 0 0 0 0 0 0 0 2 3 3 3 0 0 0 0 0 0 0 3 3 3 3 0 0 0 0]\n",
      " [0 0 0 0 0 0 0 0 0 2 3 3 3 2 0 0 0 0 0 1 3 3 3 3 0 0 0 0]\n",
      " [0 0 0 0 0 0 0 0 0 3 3 3 3 2 0 0 0 0 1 3 3 3 3 2 0 0 0 0]\n",
      " [0 0 0 0 0 0 0 0 3 3 3 3 3 0 0 0 0 0 3 3 3 3 3 3 0 0 0 0]\n",
      " [0 0 0 0 0 0 0 1 3 3 3 3 0 0 0 0 0 1 3 3 3 3 3 3 0 0 0 0]\n",
      " [0 0 0 0 0 0 3 3 3 3 3 1 0 0 0 0 2 3 3 3 3 3 3 2 0 0 0 0]\n",
      " [0 0 0 0 0 1 3 3 3 3 3 2 0 0 0 2 3 3 3 3 3 3 3 2 0 0 0 0]\n",
      " [0 0 0 0 2 3 3 3 3 3 3 3 3 3 3 3 3 3 3 3 3 3 3 0 0 0 0 0]\n",
      " [0 0 0 0 3 3 3 3 3 3 3 3 3 3 3 3 3 3 3 3 3 3 3 1 0 0 0 0]\n",
      " [0 0 0 0 2 3 3 3 3 3 3 3 3 3 3 3 3 3 3 3 3 3 3 1 0 0 0 0]\n",
      " [0 0 0 0 0 0 2 2 2 3 2 2 2 3 3 3 3 3 3 2 0 0 0 0 0 0 0 0]\n",
      " [0 0 0 0 0 0 0 0 2 1 0 0 0 0 3 3 3 3 0 0 0 0 0 0 0 0 0 0]\n",
      " [0 0 0 0 0 0 0 0 0 0 0 0 0 1 3 3 3 2 0 0 0 0 0 0 0 0 0 0]\n",
      " [0 0 0 0 0 0 0 0 0 0 0 0 0 3 3 3 3 0 0 0 0 0 0 0 0 0 0 0]\n",
      " [0 0 0 0 0 0 0 0 0 0 0 0 3 3 3 3 0 0 0 0 0 0 0 0 0 0 0 0]\n",
      " [0 0 0 0 0 0 0 0 0 0 0 0 3 3 3 3 0 0 0 0 0 0 0 0 0 0 0 0]\n",
      " [0 0 0 0 0 0 0 0 0 0 0 0 2 3 3 3 0 0 0 0 0 0 0 0 0 0 0 0]\n",
      " [0 0 0 0 0 0 0 0 0 0 0 0 2 3 3 2 0 0 0 0 0 0 0 0 0 0 0 0]\n",
      " [0 0 0 0 0 0 0 0 0 0 0 0 0 0 0 0 0 0 0 0 0 0 0 0 0 0 0 0]\n",
      " [0 0 0 0 0 0 0 0 0 0 0 0 0 0 0 0 0 0 0 0 0 0 0 0 0 0 0 0]\n",
      " [0 0 0 0 0 0 0 0 0 0 0 0 0 0 0 0 0 0 0 0 0 0 0 0 0 0 0 0]]\n"
     ]
    }
   ],
   "source": [
    "num_bins = 5\n",
    "x = np.array([0, 60, 120])\n",
    "bins = np.linspace(start=0, stop=255, num=num_bins) # returneaza intervalele\n",
    "x_to_bins = np.digitize(image, bins) # returneaza pentru fiecare element intervalul\n",
    "                                 # corespunzator \n",
    "                                 # Atentie! In cazul nostru indexarea elementelor va \n",
    "                                 # incepe de la 1, intrucat nu avem valori < 0\n",
    "            \n",
    "x_to_bins -= 1\n",
    "print(x_to_bins)"
   ]
  },
  {
   "cell_type": "code",
   "execution_count": 12,
   "id": "dd839231",
   "metadata": {},
   "outputs": [
    {
     "data": {
      "text/plain": [
       "0.846"
      ]
     },
     "execution_count": 12,
     "metadata": {},
     "output_type": "execute_result"
    }
   ],
   "source": [
    "from sklearn.naive_bayes import MultinomialNB\n",
    "\n",
    "test_data = np.loadtxt('data/test_images.txt') # incarcam imaginile\n",
    "test_labels = np.loadtxt('data/test_labels.txt', 'int') # incarcam etichetele avand\n"
   ]
  },
  {
   "cell_type": "code",
   "execution_count": 20,
   "id": "7a507941",
   "metadata": {},
   "outputs": [
    {
     "name": "stdout",
     "output_type": "stream",
     "text": [
      "[[0 0 0 0 0 0 0 0 0 0 0 0 0 0 0 0 0 0 0 0 0 0 0 0 0 0 0 0]\n",
      " [0 0 0 0 0 0 0 0 0 0 0 0 0 0 0 0 0 0 0 0 0 0 0 0 0 0 0 0]\n",
      " [0 0 0 0 0 0 0 0 0 0 0 0 0 0 0 0 0 0 0 0 0 0 0 0 0 0 0 0]\n",
      " [0 0 0 0 0 0 0 0 0 0 0 0 0 0 0 0 0 0 0 0 0 0 0 0 0 0 0 0]\n",
      " [0 0 0 0 0 0 0 0 0 0 0 0 0 0 0 0 0 0 0 0 0 0 0 0 0 0 0 0]\n",
      " [0 0 0 0 0 0 0 0 0 0 0 0 0 0 0 0 0 0 0 0 1 4 3 0 0 0 0 0]\n",
      " [0 0 0 0 0 0 0 0 0 0 3 3 1 0 0 0 0 0 0 0 3 3 3 0 0 0 0 0]\n",
      " [0 0 0 0 0 0 0 0 0 2 3 3 3 0 0 0 0 0 0 0 3 3 3 3 0 0 0 0]\n",
      " [0 0 0 0 0 0 0 0 0 2 3 3 3 2 0 0 0 0 0 1 3 3 3 3 0 0 0 0]\n",
      " [0 0 0 0 0 0 0 0 0 3 3 3 3 2 0 0 0 0 1 3 3 3 3 2 0 0 0 0]\n",
      " [0 0 0 0 0 0 0 0 3 3 3 3 3 0 0 0 0 0 3 3 3 3 3 3 0 0 0 0]\n",
      " [0 0 0 0 0 0 0 1 3 3 3 3 0 0 0 0 0 1 3 3 3 3 3 3 0 0 0 0]\n",
      " [0 0 0 0 0 0 3 3 3 3 3 1 0 0 0 0 2 3 3 3 3 3 3 2 0 0 0 0]\n",
      " [0 0 0 0 0 1 3 3 3 3 3 2 0 0 0 2 3 3 3 3 3 3 3 2 0 0 0 0]\n",
      " [0 0 0 0 2 3 3 3 3 3 3 3 3 3 3 3 3 3 3 3 3 3 3 0 0 0 0 0]\n",
      " [0 0 0 0 3 3 3 3 3 3 3 3 3 3 3 3 3 3 3 3 3 3 3 1 0 0 0 0]\n",
      " [0 0 0 0 2 3 3 3 3 3 3 3 3 3 3 3 3 3 3 3 3 3 3 1 0 0 0 0]\n",
      " [0 0 0 0 0 0 2 2 2 3 2 2 2 3 3 3 3 3 3 2 0 0 0 0 0 0 0 0]\n",
      " [0 0 0 0 0 0 0 0 2 1 0 0 0 0 3 3 3 3 0 0 0 0 0 0 0 0 0 0]\n",
      " [0 0 0 0 0 0 0 0 0 0 0 0 0 1 3 3 3 2 0 0 0 0 0 0 0 0 0 0]\n",
      " [0 0 0 0 0 0 0 0 0 0 0 0 0 3 3 3 3 0 0 0 0 0 0 0 0 0 0 0]\n",
      " [0 0 0 0 0 0 0 0 0 0 0 0 3 3 3 3 0 0 0 0 0 0 0 0 0 0 0 0]\n",
      " [0 0 0 0 0 0 0 0 0 0 0 0 3 3 3 3 0 0 0 0 0 0 0 0 0 0 0 0]\n",
      " [0 0 0 0 0 0 0 0 0 0 0 0 2 3 3 3 0 0 0 0 0 0 0 0 0 0 0 0]\n",
      " [0 0 0 0 0 0 0 0 0 0 0 0 2 3 3 2 0 0 0 0 0 0 0 0 0 0 0 0]\n",
      " [0 0 0 0 0 0 0 0 0 0 0 0 0 0 0 0 0 0 0 0 0 0 0 0 0 0 0 0]\n",
      " [0 0 0 0 0 0 0 0 0 0 0 0 0 0 0 0 0 0 0 0 0 0 0 0 0 0 0 0]\n",
      " [0 0 0 0 0 0 0 0 0 0 0 0 0 0 0 0 0 0 0 0 0 0 0 0 0 0 0 0]]\n"
     ]
    }
   ],
   "source": [
    "# 2\n",
    "num_bins = 5\n",
    "bins = np.linspace(start=0, stop=255, num=num_bins)\n",
    "\n",
    "def values_to_bins(matrice, bins):\n",
    "    x_to_bins = np.digitize(matrice, bins)                             \n",
    "    x_to_bins -= 1\n",
    "    return x_to_bins\n",
    "    \n",
    "print(values_to_bins(image, bins))"
   ]
  },
  {
   "cell_type": "code",
   "execution_count": 22,
   "id": "6f00f9d9",
   "metadata": {},
   "outputs": [
    {
     "data": {
      "text/plain": [
       "0.836"
      ]
     },
     "execution_count": 22,
     "metadata": {},
     "output_type": "execute_result"
    }
   ],
   "source": [
    "# 3\n",
    "trains3 = values_to_bins(train_images, bins)\n",
    "tests3 = values_to_bins(test_data, bins)\n",
    "\n",
    "\n",
    "naive_bayes_model = MultinomialNB()\n",
    "naive_bayes_model.fit(trains3, train_labels)\n",
    "# naive_bayes_model.predict(test_data)\n",
    "naive_bayes_model.score(tests3, test_labels)"
   ]
  },
  {
   "cell_type": "code",
   "execution_count": 28,
   "id": "624f8996",
   "metadata": {},
   "outputs": [
    {
     "name": "stdout",
     "output_type": "stream",
     "text": [
      "3 0.826\n",
      "5 0.836\n",
      "7 0.842\n",
      "9 0.842\n",
      "11 0.842\n"
     ]
    }
   ],
   "source": [
    "# 4\n",
    "num_bins = np.array([3,5,7,9,11])\n",
    "\n",
    "def exercitiu4 (num_bins):\n",
    "    bins = np.linspace(start=0, stop=255, num=num_bins)\n",
    "    trains = values_to_bins(train_images, bins)\n",
    "    tests = values_to_bins(test_data, bins)\n",
    "\n",
    "    naive_bayes_model = MultinomialNB()\n",
    "    naive_bayes_model.fit(trains, train_labels)\n",
    "    naive_bayes_model.score(tests, test_labels)\n",
    "    print(num_bins, naive_bayes_model.score(tests, test_labels))\n",
    "    \n",
    "for bins in num_bins:\n",
    "    exercitiu4(bins)"
   ]
  },
  {
   "cell_type": "code",
   "execution_count": 40,
   "id": "dd773e73",
   "metadata": {},
   "outputs": [
    {
     "ename": "NameError",
     "evalue": "name 'show' is not defined",
     "output_type": "error",
     "traceback": [
      "\u001b[1;31m---------------------------------------------------------------------------\u001b[0m",
      "\u001b[1;31mNameError\u001b[0m                                 Traceback (most recent call last)",
      "\u001b[1;32m~\\AppData\\Local\\Temp/ipykernel_14560/2742295986.py\u001b[0m in \u001b[0;36m<module>\u001b[1;34m\u001b[0m\n\u001b[0;32m     13\u001b[0m \u001b[1;33m\u001b[0m\u001b[0m\n\u001b[0;32m     14\u001b[0m     \u001b[1;32mif\u001b[0m \u001b[0mpredicted_value\u001b[0m \u001b[1;33m!=\u001b[0m \u001b[0mtest_labels\u001b[0m\u001b[1;33m[\u001b[0m\u001b[0mi\u001b[0m\u001b[1;33m]\u001b[0m\u001b[1;33m:\u001b[0m\u001b[1;33m\u001b[0m\u001b[1;33m\u001b[0m\u001b[0m\n\u001b[1;32m---> 15\u001b[1;33m         \u001b[0mshow\u001b[0m\u001b[1;33m(\u001b[0m\u001b[0mnp\u001b[0m\u001b[1;33m.\u001b[0m\u001b[0mreshape\u001b[0m\u001b[1;33m(\u001b[0m\u001b[0mtrains5\u001b[0m\u001b[1;33m[\u001b[0m\u001b[0mi\u001b[0m\u001b[1;33m]\u001b[0m\u001b[1;33m,\u001b[0m \u001b[1;33m(\u001b[0m\u001b[1;36m28\u001b[0m\u001b[1;33m,\u001b[0m \u001b[1;36m28\u001b[0m\u001b[1;33m)\u001b[0m\u001b[1;33m)\u001b[0m\u001b[1;33m)\u001b[0m\u001b[1;33m\u001b[0m\u001b[1;33m\u001b[0m\u001b[0m\n\u001b[0m\u001b[0;32m     16\u001b[0m \u001b[1;31m#         plt.imshow(trains5[i].reshape(1, -1).astype(np.uint8), cmap='gray')\u001b[0m\u001b[1;33m\u001b[0m\u001b[1;33m\u001b[0m\u001b[0m\n\u001b[0;32m     17\u001b[0m \u001b[1;31m#         plt.show()\u001b[0m\u001b[1;33m\u001b[0m\u001b[1;33m\u001b[0m\u001b[0m\n",
      "\u001b[1;31mNameError\u001b[0m: name 'show' is not defined"
     ]
    }
   ],
   "source": [
    "# 5\n",
    "num_bins5 = 7\n",
    "bins5 = np.linspace(start=0, stop=255, num=num_bins5)\n",
    "\n",
    "trains5 = values_to_bins(train_images, bins5)\n",
    "tests5 = values_to_bins(test_data, bins5)\n",
    "\n",
    "naive_bayes_model5 = MultinomialNB()\n",
    "naive_bayes_model.fit(trains5, train_labels)\n",
    "\n",
    "for i in range(len(trains5)):\n",
    "    predicted_value = naive_bayes_model.predict(trains5[i].reshape(1, -1))\n",
    "    \n",
    "    if predicted_value != test_labels[i]:\n",
    "        show(np.reshape(trains5[i], (28, 28)))\n",
    "#         plt.imshow(trains5[i].reshape(1, -1).astype(np.uint8), cmap='gray')\n",
    "#         plt.show()"
   ]
  },
  {
   "cell_type": "code",
   "execution_count": 56,
   "id": "b546cdd0",
   "metadata": {},
   "outputs": [
    {
     "name": "stdout",
     "output_type": "stream",
     "text": [
      "[2 7 3 1 2 2 0 8 1 4 7 3 2 0 8 3 8 9 9 1 8 2 0 0 5 9 6 2 6 7 3 2 4 9 6 6 1\n",
      " 7 5 3 0 1 8 2 2 1 3 7 9 6 7 6 7 7 9 7 3 1 2 1 7 8 0 8 8 3 1 6 0 5 8 8 6 3\n",
      " 2 4 4 0 9 1 9 4 3 3 1 4 0 5 7 9 0 5 2 3 4 4 4 9 5 0 0 6 8 4 6 0 7 0 8 8 7\n",
      " 9 3 0 5 9 5 3 5 7 3 9 9 4 8 9 3 0 8 1 0 9 2 6 6 3 7 0 2 8 7 0 4 2 1 3 1 3\n",
      " 5 3 9 3 0 0 3 6 3 2 0 1 6 4 3 2 8 2 4 4 7 8 5 3 7 4 2 8 0 0 0 3 1 6 6 2 5\n",
      " 2 9 2 9 3 5 2 7 0 0 3 7 8 6 7 8 7 0 5 3 2 8 2 4 7 8 9 4 9 8 0 7 6 3 9 2 5\n",
      " 6 0 1 9 6 0 2 5 9 5 8 4 1 4 6 2 6 9 4 9 5 2 4 5 3 8 3 8 8 8 1 0 4 8 8 9 3\n",
      " 4 4 8 9 0 1 7 7 4 5 0 1 3 7 5 6 9 2 1 2 8 9 6 8 4 6 9 0 5 3 3 5 6 6 5 8 2\n",
      " 9 3 6 1 1 7 0 8 8 3 2 1 0 0 8 0 0 1 1 6 9 2 4 2 7 0 8 8 4 1 7 2 4 2 0 9 6\n",
      " 1 3 9 9 0 0 4 6 7 1 0 1 3 2 5 5 3 2 9 1 6 6 8 9 4 1 3 9 0 5 4 3 4 1 3 1 2\n",
      " 4 2 4 2 2 3 4 4 7 1 3 7 6 5 7 9 3 0 8 4 9 9 9 6 2 2 1 5 6 6 7 9 9 3 5 4 1\n",
      " 1 3 5 5 6 5 9 0 0 9 2 2 9 2 7 3 9 7 2 0 9 7 0 3 1 7 8 4 2 2 7 3 3 2 9 3 2\n",
      " 3 0 9 9 9 3 4 3 1 1 2 2 4 8 6 6 0 1 2 1 6 1 7 6 1 1 4 3 1 1 6 8 7 8 5 1 9\n",
      " 8 6 7 3 3 0 6 0 3 5 1 3 9 9 3 8 8 6 5]\n",
      "[2 7 3 1 2 2 0 5 1 4 7 3 2 6 8 3 8 9 9 1 8 2 0 0 5 4 6 2 6 7 3 2 4 7 6 6 1\n",
      " 7 5 2 0 1 1 2 2 1 3 7 9 6 7 6 7 7 3 7 3 1 2 1 7 8 0 1 8 3 1 6 0 5 8 6 6 3\n",
      " 2 9 7 0 9 1 4 4 3 5 1 4 0 5 7 9 0 5 2 3 4 4 4 9 5 0 0 6 8 4 6 0 7 0 8 0 7\n",
      " 5 3 0 5 7 5 3 8 7 3 9 9 4 5 9 3 0 6 1 0 9 2 6 6 3 7 0 2 8 7 5 4 2 1 3 6 5\n",
      " 5 5 4 3 0 0 3 6 3 2 0 1 6 4 3 2 5 3 8 4 7 8 5 5 7 4 2 8 0 0 0 3 1 6 6 2 5\n",
      " 2 9 2 2 3 5 8 7 0 0 3 7 8 6 7 8 7 0 5 3 2 8 2 4 7 8 4 4 4 5 2 7 6 3 9 2 5\n",
      " 6 0 1 9 6 0 2 5 9 5 8 9 1 9 6 8 6 9 4 4 5 2 4 5 5 8 3 8 8 8 1 0 4 8 2 9 3\n",
      " 4 9 5 4 0 1 7 7 4 5 0 1 9 7 5 0 9 2 1 2 8 9 5 8 7 6 9 0 5 3 3 5 6 6 5 8 2\n",
      " 9 3 6 1 1 7 0 8 1 3 8 1 0 0 8 0 0 1 1 6 9 2 4 2 7 0 8 8 4 1 8 2 4 2 0 4 6\n",
      " 1 8 3 4 0 0 4 6 7 1 2 1 3 2 5 5 3 2 9 1 6 8 8 9 4 1 3 7 0 5 4 3 9 1 5 1 2\n",
      " 4 2 6 2 2 3 4 2 7 1 3 7 6 5 2 7 5 0 8 4 9 9 9 6 2 2 1 5 6 6 7 9 9 3 5 4 7\n",
      " 1 3 5 5 6 5 9 0 0 7 2 2 9 2 7 3 3 7 2 0 9 7 0 5 1 7 4 4 2 2 7 3 8 2 9 3 9\n",
      " 3 0 8 9 4 3 4 3 1 1 2 2 4 4 6 6 0 1 2 8 6 1 7 6 1 1 4 3 1 1 6 8 7 8 5 1 9\n",
      " 8 6 7 3 3 0 6 0 8 5 1 5 7 9 3 1 8 6 5]\n",
      "[[51.  0.  0.  0.  0.  0.  1.  0.  1.  0.]\n",
      " [ 0. 48.  0.  0.  0.  0.  0.  0.  4.  0.]\n",
      " [ 2.  0. 51.  1.  1.  0.  0.  1.  1.  1.]\n",
      " [ 0.  0.  1. 49.  0.  0.  0.  0.  0.  3.]\n",
      " [ 0.  0.  0.  0. 34.  0.  0.  0.  2. 10.]\n",
      " [ 1.  0.  0.  9.  0. 35.  1.  0.  5.  1.]\n",
      " [ 1.  1.  0.  0.  1.  0. 43.  0.  2.  0.]\n",
      " [ 0.  1.  0.  0.  2.  0.  0. 41.  0.  6.]\n",
      " [ 0.  1.  3.  3.  1.  1.  1.  1. 34.  1.]\n",
      " [ 0.  0.  1.  1.  5.  0.  0.  0.  0. 35.]]\n"
     ]
    }
   ],
   "source": [
    "# 6\n",
    "predicted_labels = naive_bayes_model.predict(test_data)\n",
    "\n",
    "print(predicted_labels)\n",
    "print(test_labels)\n",
    "\n",
    "def confusion_matrix(predicted_labels, actual_labels):\n",
    "    nr_clase = max(predicted_labels.max(), actual_labels.max()) + 1\n",
    "    \n",
    "    confusion = np.zeros((nr_clase, nr_clase))\n",
    "    \n",
    "    for idx, elem in enumerate(predicted_labels):\n",
    "        confusion[actual_labels[idx]][elem] += 1\n",
    "            \n",
    "    return confusion\n",
    "    \n",
    "print(confusion_matrix(predicted_labels, test_labels))"
   ]
  },
  {
   "cell_type": "code",
   "execution_count": null,
   "id": "e7e0f7a0",
   "metadata": {},
   "outputs": [],
   "source": [
    "# 1\n",
    "\n",
    "oameni_labels = [(160, F), (165, F), (155, F), (172, F), (175, B), (180, B), (177, B), (190, B)]\n",
    "bins1 = np.linspace(start=150, stop=190, num=5)\n",
    "om = 178\n",
    "\n"
   ]
  }
 ],
 "metadata": {
  "kernelspec": {
   "display_name": "Python 3 (ipykernel)",
   "language": "python",
   "name": "python3"
  },
  "language_info": {
   "codemirror_mode": {
    "name": "ipython",
    "version": 3
   },
   "file_extension": ".py",
   "mimetype": "text/x-python",
   "name": "python",
   "nbconvert_exporter": "python",
   "pygments_lexer": "ipython3",
   "version": "3.9.7"
  }
 },
 "nbformat": 4,
 "nbformat_minor": 5
}
