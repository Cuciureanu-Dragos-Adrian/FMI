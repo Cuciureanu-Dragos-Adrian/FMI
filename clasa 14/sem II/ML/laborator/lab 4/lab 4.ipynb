{
 "cells": [
  {
   "cell_type": "code",
   "execution_count": 1,
   "id": "2afc10c5",
   "metadata": {},
   "outputs": [
    {
     "name": "stdout",
     "output_type": "stream",
     "text": [
      "[1.         0.         0.33333333]\n",
      "[0.81649658 0.81649658 1.24721913]\n",
      "[[ 0.         -1.22474487  1.33630621]\n",
      " [ 1.22474487  0.         -0.26726124]\n",
      " [-1.22474487  1.22474487 -1.06904497]]\n",
      "[[-2.44948974  1.22474487 -0.26726124]]\n"
     ]
    }
   ],
   "source": [
    "from sklearn import preprocessing\n",
    "import numpy as np\n",
    "\n",
    "\n",
    "x_train = np.array([[1, -1, 2], [2, 0, 0], [0, 1, -1]], dtype=np.float64)\n",
    "x_test = np.array([[-1, 1, 0]], dtype=np.float64)\n",
    "\n",
    "# facem statisticile pe datele de antrenare\n",
    "scaler = preprocessing.StandardScaler()\n",
    "scaler.fit(x_train)\n",
    "\n",
    "# afisam media\n",
    "print(scaler.mean_) \t\t \t# => [1.  0.  0.33333333]\n",
    "# afisam deviatia standard\n",
    "print(scaler.scale_)\t\t\t# => [0.81649658 0.81649658 1.24721913]\n",
    "\n",
    "# scalam datele de antrenare\n",
    "scaled_x_train = scaler.transform(x_train)\n",
    "print(scaled_x_train) \t# => [[0.          -1.22474487  1.33630621]\n",
    "                             #     [1.22474487   0.          -0.26726124]\n",
    "                             #     [-1.22474487  1.22474487  -1.06904497]]\n",
    "\n",
    "# scalam datele de test\n",
    "scaled_x_test = scaler.transform(x_test)\n",
    "print(scaled_x_test)        # => [[-2.44948974  1.22474487 -0.26726124]]\n"
   ]
  },
  {
   "cell_type": "code",
   "execution_count": 30,
   "id": "f20034ea",
   "metadata": {},
   "outputs": [],
   "source": [
    "#2\n",
    "\n",
    "def normalize_data(train_data, test_data, type1=None):\n",
    "    scaler = None\n",
    "\n",
    "    if type1 == 'standard':\n",
    "        scaler = preprocessing.StandardScaler()\n",
    "        scaler.fit(train_data)\n",
    "        \n",
    "        scaled_train_data = scaler.transform(train_data)\n",
    "        scaled_test_data = scaler.transform(test_data)\n",
    "        \n",
    "        return scaled_train_data, scaled_test_data\n",
    "    \n",
    "    elif type1 == 'l1':\n",
    "        scaler = preprocessing.Normalizer(norm='l1')\n",
    "        scaler.fit(train_data)\n",
    "        \n",
    "        scaled_train_data = scaler.transform(train_data)\n",
    "        scaled_test_data = scaler.transform(test_data)\n",
    "        \n",
    "        return scaled_train_data, scaled_test_data\n",
    "    \n",
    "    elif type1 == 'l2':\n",
    "        scaler = preprocessing.Normalizer(norm='l2')\n",
    "        scaler.fit(train_data)\n",
    "        \n",
    "        scaled_train_data = scaler.transform(train_data)\n",
    "        scaled_test_data = scaler.transform(test_data)\n",
    "        \n",
    "        return scaled_train_data, scaled_test_data\n"
   ]
  },
  {
   "cell_type": "code",
   "execution_count": 31,
   "id": "767d36c2",
   "metadata": {},
   "outputs": [],
   "source": [
    "#3\n",
    "\n",
    "class BagOfWords:\n",
    "    def __init__(self):\n",
    "        self.vocabulary = {}\n",
    "        self.words = []\n",
    "        self.vocabulary_len = 0\n",
    "        \n",
    "        \n",
    "    def build_vocabulary(self, data):\n",
    "        for document in data:\n",
    "            for word in document:\n",
    "                if word not in self.vocabulary:\n",
    "                    self.vocabulary[word] = len(self.vocabulary)\n",
    "                    self.words.append(word)\n",
    "                    \n",
    "            self.vocabulary_len = len(self.vocabulary)\n",
    "            \n",
    "#4\n",
    "    def get_features(self, data):\n",
    "        features = np.zeros((len(data), self.vocabulary_len))\n",
    "        \n",
    "        for id_sen, document in enumerate(data):\n",
    "            for word in document:\n",
    "                if word in self.vocabulary:\n",
    "                    features[id_sen, self.vocabulary[word]] += 1\n",
    "                    \n",
    "        return features"
   ]
  },
  {
   "cell_type": "code",
   "execution_count": 3,
   "id": "bcd9a0ee",
   "metadata": {},
   "outputs": [],
   "source": [
    "#5\n",
    "train_sentences = np.load(\"data/training_sentences.npy\", allow_pickle=True)\n",
    "train_labels = np.load(\"data/training_labels.npy\", allow_pickle=True)\n",
    "\n",
    "test_sentences = np.load(\"data/test_sentences.npy\", allow_pickle=True)\n",
    "test_labels = np.load(\"data/test_labels.npy\", allow_pickle=True)"
   ]
  },
  {
   "cell_type": "code",
   "execution_count": 32,
   "id": "acdad161",
   "metadata": {},
   "outputs": [
    {
     "name": "stdout",
     "output_type": "stream",
     "text": [
      "[[0.  0.  0.5 ... 0.  0.  0. ]\n",
      " [0.  0.  0.  ... 0.  0.  0. ]\n",
      " [0.  0.  0.  ... 0.  0.  0. ]\n",
      " ...\n",
      " [0.  0.  0.  ... 0.  0.  0. ]\n",
      " [0.  0.  0.  ... 0.  0.  0. ]\n",
      " [0.  0.  0.  ... 0.  0.  0. ]]\n"
     ]
    }
   ],
   "source": [
    "bow = BagOfWords()\n",
    "bow.build_vocabulary(train_sentences)\n",
    "\n",
    "train_features = bow.get_features(train_sentences)\n",
    "test_features = bow.get_features(test_sentences)\n",
    "\n",
    "train_features_norm, test_features_norm = normalize_data(train_features, test_features, type1='l2')\n",
    "\n",
    "print(test_features_norm)"
   ]
  },
  {
   "cell_type": "code",
   "execution_count": 33,
   "id": "164aa771",
   "metadata": {},
   "outputs": [
    {
     "data": {
      "text/plain": [
       "SVC(C=1, kernel='linear')"
      ]
     },
     "execution_count": 33,
     "metadata": {},
     "output_type": "execute_result"
    }
   ],
   "source": [
    "#6\n",
    "from sklearn import svm\n",
    "\n",
    "svm_model = svm.SVC(C=1, kernel='linear')\n",
    "svm_model.fit(train_features_norm, train_labels)"
   ]
  },
  {
   "cell_type": "code",
   "execution_count": 37,
   "id": "00e26ee2",
   "metadata": {},
   "outputs": [
    {
     "name": "stdout",
     "output_type": "stream",
     "text": [
      "0.9842391304347826\n"
     ]
    }
   ],
   "source": [
    "predicted = svm_model.predict(test_features_norm)\n",
    "\n",
    "correct = 0\n",
    "for idx, elem in enumerate(predicted):\n",
    "    if elem == test_labels[idx]:\n",
    "        correct += 1\n",
    "        \n",
    "proccent = correct / len(predicted)\n",
    "print(proccent)"
   ]
  },
  {
   "cell_type": "code",
   "execution_count": 39,
   "id": "e297d172",
   "metadata": {},
   "outputs": [
    {
     "name": "stdout",
     "output_type": "stream",
     "text": [
      "0.9409368635437881\n"
     ]
    }
   ],
   "source": [
    "from sklearn.metrics import f1_score\n",
    "\n",
    "score_f1 = f1_score(y_true=test_labels,y_pred=predicted)\n",
    "print(score_f1)"
   ]
  },
  {
   "cell_type": "code",
   "execution_count": 47,
   "id": "0a73c10c",
   "metadata": {},
   "outputs": [
    {
     "ename": "TypeError",
     "evalue": "only integer scalar arrays can be converted to a scalar index",
     "output_type": "error",
     "traceback": [
      "\u001b[1;31m---------------------------------------------------------------------------\u001b[0m",
      "\u001b[1;31mTypeError\u001b[0m                                 Traceback (most recent call last)",
      "\u001b[1;32m~\\AppData\\Local\\Temp/ipykernel_13752/212504264.py\u001b[0m in \u001b[0;36m<module>\u001b[1;34m\u001b[0m\n\u001b[0;32m      2\u001b[0m \u001b[1;33m\u001b[0m\u001b[0m\n\u001b[0;32m      3\u001b[0m \u001b[0mindexes\u001b[0m \u001b[1;33m=\u001b[0m \u001b[0mnp\u001b[0m\u001b[1;33m.\u001b[0m\u001b[0margsort\u001b[0m\u001b[1;33m(\u001b[0m\u001b[0mcoefs\u001b[0m\u001b[1;33m)\u001b[0m\u001b[1;33m\u001b[0m\u001b[1;33m\u001b[0m\u001b[0m\n\u001b[1;32m----> 4\u001b[1;33m \u001b[0mworst\u001b[0m \u001b[1;33m=\u001b[0m \u001b[0mnp\u001b[0m\u001b[1;33m.\u001b[0m\u001b[0marray\u001b[0m\u001b[1;33m(\u001b[0m\u001b[0mlist\u001b[0m\u001b[1;33m(\u001b[0m\u001b[0mbow\u001b[0m\u001b[1;33m.\u001b[0m\u001b[0mvocabulary\u001b[0m\u001b[1;33m.\u001b[0m\u001b[0mkeys\u001b[0m\u001b[1;33m(\u001b[0m\u001b[1;33m)\u001b[0m\u001b[1;33m)\u001b[0m\u001b[1;33m[\u001b[0m\u001b[0mindexes\u001b[0m\u001b[1;33m[\u001b[0m\u001b[1;33m:\u001b[0m\u001b[1;36m10\u001b[0m\u001b[1;33m]\u001b[0m\u001b[1;33m]\u001b[0m\u001b[1;33m)\u001b[0m\u001b[1;33m\u001b[0m\u001b[1;33m\u001b[0m\u001b[0m\n\u001b[0m\u001b[0;32m      5\u001b[0m \u001b[1;33m\u001b[0m\u001b[0m\n\u001b[0;32m      6\u001b[0m \u001b[0mprint\u001b[0m\u001b[1;33m(\u001b[0m\u001b[0mworst\u001b[0m\u001b[1;33m)\u001b[0m\u001b[1;33m\u001b[0m\u001b[1;33m\u001b[0m\u001b[0m\n",
      "\u001b[1;31mTypeError\u001b[0m: only integer scalar arrays can be converted to a scalar index"
     ]
    }
   ],
   "source": [
    "coefs = svm_model.coef_\n",
    "\n",
    "indexes = np.argsort(coefs)\n",
    "worst = np.array(list(bow.vocabulary.keys())[indexes[:10]])\n",
    "\n",
    "print(worst)"
   ]
  },
  {
   "cell_type": "code",
   "execution_count": null,
   "id": "b91db406",
   "metadata": {},
   "outputs": [],
   "source": []
  }
 ],
 "metadata": {
  "kernelspec": {
   "display_name": "Python 3 (ipykernel)",
   "language": "python",
   "name": "python3"
  },
  "language_info": {
   "codemirror_mode": {
    "name": "ipython",
    "version": 3
   },
   "file_extension": ".py",
   "mimetype": "text/x-python",
   "name": "python",
   "nbconvert_exporter": "python",
   "pygments_lexer": "ipython3",
   "version": "3.9.7"
  }
 },
 "nbformat": 4,
 "nbformat_minor": 5
}
