{
 "cells": [
  {
   "cell_type": "code",
   "execution_count": 22,
   "id": "3e0c2670",
   "metadata": {},
   "outputs": [],
   "source": [
    "import numpy as np\n",
    "import matplotlib.pyplot as plt\n",
    "\n",
    "class KnnClassifier:\n",
    "    def __init__(self, train_images, train_labels): \n",
    "        self.train_images = train_images \n",
    "        self.train_labels = train_labels\n",
    "        \n",
    "    def classify_image(self, test_image, num_neighbors = 3, metric = 'l2'):\n",
    "        if metric == \"l2\":\n",
    "            distances = np.sqrt(np.sum((train_images - test_image) ** 2, axis = 1))\n",
    "        else:\n",
    "            distances = np.sum(np.abs(train_images - test_image), axis = 1)\n",
    "            \n",
    "        sort_indexes = np.argsort(distances)\n",
    "        images_neighbors = self.train_labels[sort_indexes]\n",
    "        images_neighbors = images_neighbors[:num_neighbors]\n",
    "        \n",
    "        labels_count = np.bincount(images_neighbors)\n",
    "        \n",
    "        return np.argmax(labels_count)\n",
    "        "
   ]
  },
  {
   "cell_type": "code",
   "execution_count": 8,
   "id": "404f8c39",
   "metadata": {},
   "outputs": [
    {
     "name": "stdout",
     "output_type": "stream",
     "text": [
      "2\n",
      "2\n"
     ]
    }
   ],
   "source": [
    "# 2\n",
    "test_images = np.loadtxt('data/test_images.txt')\n",
    "test_labels = np.loadtxt('data/test_labels.txt', 'int')\n",
    "\n",
    "train_images = np.loadtxt('data/train_images.txt')\n",
    "train_labels = np.loadtxt('data/train_labels.txt', 'int')\n",
    "\n",
    "test_train_image = test_images[0]\n",
    "\n",
    "kc = KnnClassifier(train_images, train_labels)\n",
    "print(kc.classify_image(test_train_image))\n",
    "print(test_labels[0])"
   ]
  },
  {
   "cell_type": "code",
   "execution_count": 25,
   "id": "2bc414c2",
   "metadata": {},
   "outputs": [
    {
     "name": "stdout",
     "output_type": "stream",
     "text": [
      "0.898\n"
     ]
    }
   ],
   "source": [
    "# 3\n",
    "def accuracy(num_neighbors = 3, distance_type = 'l2'):\n",
    "    corect = 0\n",
    "    predictions = []\n",
    "    \n",
    "    for idx, image in enumerate(test_images):\n",
    "        result = kc.classify_image(image, num_neighbors, distance_type)\n",
    "        if result == test_labels[idx]:\n",
    "            corect += 1\n",
    "        predictions.append(result)\n",
    "    \n",
    "    np.savetxt(\"predictii_3nn_l2_mnist.txt\", predictions)\n",
    "    \n",
    "    return corect/len(test_images)\n",
    "\n",
    "\n",
    "print(accuracy())"
   ]
  },
  {
   "cell_type": "code",
   "execution_count": 35,
   "id": "9e6ca132",
   "metadata": {},
   "outputs": [
    {
     "data": {
      "image/png": "[encoded data removed]",
      "text/plain": [
       "<Figure size 432x288 with 1 Axes>"
      ]
     },
     "metadata": {
      "needs_background": "light"
     },
     "output_type": "display_data"
    }
   ],
   "source": [
    "#4 a, b\n",
    "numes_neighbors = [1, 3, 5, 7, 9]\n",
    "percenteges1 = []\n",
    "percenteges2 = []\n",
    "\n",
    "for num in numes_neighbors:\n",
    "    percenteges1.append(accuracy(num, 'l1'))\n",
    "    \n",
    "for num in numes_neighbors:\n",
    "    percenteges2.append(accuracy(num, 'l2'))\n",
    "    \n",
    "plt.plot(numes_neighbors, percenteges1, label = 'l1')\n",
    "plt.plot(numes_neighbors, percenteges2, label = 'l2')\n",
    "plt.xlabel(\"numbers\")\n",
    "plt.ylabel(\"probability\")\n",
    "plt.legend()\n",
    "plt.show()\n",
    "\n",
    "np.savetxt(\"acuratete_l2.txt\", percenteges)"
   ]
  },
  {
   "cell_type": "code",
   "execution_count": null,
   "id": "430b2648",
   "metadata": {},
   "outputs": [],
   "source": []
  }
 ],
 "metadata": {
  "kernelspec": {
   "display_name": "Python 3 (ipykernel)",
   "language": "python",
   "name": "python3"
  },
  "language_info": {
   "codemirror_mode": {
    "name": "ipython",
    "version": 3
   },
   "file_extension": ".py",
   "mimetype": "text/x-python",
   "name": "python",
   "nbconvert_exporter": "python",
   "pygments_lexer": "ipython3",
   "version": "3.9.7"
  }
 },
 "nbformat": 4,
 "nbformat_minor": 5
}
