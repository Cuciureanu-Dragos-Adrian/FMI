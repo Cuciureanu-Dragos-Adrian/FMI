{
 "cells": [
  {
   "cell_type": "code",
   "execution_count": 27,
   "id": "abcd859e",
   "metadata": {},
   "outputs": [],
   "source": [
    "from sklearn.linear_model import LinearRegression, Ridge, Lasso \n",
    "\n",
    "# definirea modelelor \n",
    "linear_regression_model = LinearRegression() \n",
    "ridge_regression_model = Ridge(alpha=1) \n",
    "lasso_regression_model = Lasso(alpha=1) \n",
    "\n",
    "# calcularea valorii MSE și MAE \n",
    "from sklearn.metrics import mean_squared_error, mean_absolute_error\n",
    "\n",
    "# mse_value = mean_squared_error(y_true, y_pred) \n",
    "# mae_value = mean_absolute_error(y_true, y_pred)"
   ]
  },
  {
   "cell_type": "code",
   "execution_count": 40,
   "id": "a4c1f3f2",
   "metadata": {},
   "outputs": [
    {
     "name": "stdout",
     "output_type": "stream",
     "text": [
      "The first 4 samples are:\n",
      "  [[2.0170e+03 1.8351e+04 2.1900e+01 6.2400e+02 3.7480e+01 4.0000e+00\n",
      "  1.0000e+00 0.0000e+00 0.0000e+00 1.0000e+00 0.0000e+00 0.0000e+00\n",
      "  0.0000e+00 1.0000e+00]\n",
      " [2.0150e+03 9.1000e+04 2.1100e+01 8.1400e+02 5.5200e+01 5.0000e+00\n",
      "  1.0000e+00 0.0000e+00 0.0000e+00 1.0000e+00 0.0000e+00 0.0000e+00\n",
      "  1.0000e+00 0.0000e+00]\n",
      " [2.0180e+03 2.0667e+04 1.8900e+01 1.1970e+03 8.1860e+01 5.0000e+00\n",
      "  1.0000e+00 0.0000e+00 0.0000e+00 1.0000e+00 0.0000e+00 0.0000e+00\n",
      "  0.0000e+00 1.0000e+00]\n",
      " [2.0070e+03 5.5000e+04 1.3200e+01 1.4950e+03 9.4000e+01 5.0000e+00\n",
      "  1.0000e+00 0.0000e+00 0.0000e+00 1.0000e+00 0.0000e+00 0.0000e+00\n",
      "  1.0000e+00 0.0000e+00]]\n",
      "The first 4 prices are:\n",
      "  [3.41 2.5  7.55 2.65]\n"
     ]
    }
   ],
   "source": [
    "import numpy as np \n",
    "from sklearn.utils import shuffle \n",
    "\n",
    "# print the first 4 samples\n",
    "\n",
    "print('The first 4 samples are:\\n ', training_data[:4]) \n",
    "print('The first 4 prices are:\\n ', prices[:4]) \n",
    "\n",
    "# shuffle \n",
    "training_data, prices = shuffle(training_data, prices, random_state=0)"
   ]
  },
  {
   "cell_type": "code",
   "execution_count": 41,
   "id": "d691bad0",
   "metadata": {},
   "outputs": [],
   "source": [
    "# 1\n",
    "from sklearn import preprocessing\n",
    "\n",
    "def normalizer(train_data, test_data = None):\n",
    "    scaler = preprocessing.StandardScaler()\n",
    "    scaler.fit(train_data)\n",
    "    scaled_x_train = scaler.transform(train_data)\n",
    "    \n",
    "    if test_data is None:\n",
    "        return scaled_x_train\n",
    "    \n",
    "    scaled_x_test = scaler.transform(test_data)\n",
    "    return scaled_x_train, scaled_x_test"
   ]
  },
  {
   "cell_type": "code",
   "execution_count": 42,
   "id": "340b86d6",
   "metadata": {},
   "outputs": [],
   "source": [
    "# 2\n",
    "train_data = np.load('data/training_data.npy')\n",
    "prices = np.load('data/prices.npy') \n",
    "\n",
    "train_data, prices = shuffle(train_data, prices, random_state=0)\n",
    "\n",
    "num_samples = len(train_data) // 3\n",
    "\n",
    "train_data1, prices1 = train_data[:num_samples], prices[:num_samples]\n",
    "train_data2, prices2 = train_data[num_samples:2*num_samples], prices[num_samples:2*num_samples]\n",
    "train_data3, prices3 = train_data[2*num_samples:], prices[2*num_samples:]\n"
   ]
  },
  {
   "cell_type": "code",
   "execution_count": 43,
   "id": "fd0ed20c",
   "metadata": {},
   "outputs": [
    {
     "name": "stdout",
     "output_type": "stream",
     "text": [
      "3.1656786600748696 1.3195819854736328\n"
     ]
    }
   ],
   "source": [
    "def train_test_model(model, train_data, train_label, test_data, test_label):\n",
    "    train_data, test_data = normalizer(train_data, test_data)\n",
    "    model.fit(train_data, train_label)\n",
    "    \n",
    "    y_pred = model.predict(test_data)\n",
    "    y_true = test_label\n",
    "    \n",
    "    mse_value = mean_squared_error(y_pred, y_true) \n",
    "    mae_value = mean_absolute_error(y_pred, y_true)\n",
    "    \n",
    "    return mse_value, mae_value\n",
    "\n",
    " \n",
    "linear_regression_model = LinearRegression()\n",
    "mse1, mae1 = train_test_model(linear_regression_model, np.concatenate((train_data1, train_data2)),\n",
    "                             np.concatenate((prices1, prices2)), train_data3, prices3)\n",
    "\n",
    "mse2, mae2 = train_test_model(linear_regression_model, np.concatenate((train_data1, train_data3)),\n",
    "                             np.concatenate((prices1, prices3)), train_data2, prices2)\n",
    "\n",
    "mse3, mae3 = train_test_model(linear_regression_model, np.concatenate((train_data2, train_data3)),\n",
    "                             np.concatenate((prices2, prices3)), train_data1, prices1)\n",
    "\n",
    "MSE = (mse1 + mse2 + mse3) / 3\n",
    "MAE = (mae1 + mae2 + mae3) / 3\n",
    "print(MSE, MAE)"
   ]
  },
  {
   "cell_type": "code",
   "execution_count": 44,
   "id": "a7dea74e",
   "metadata": {},
   "outputs": [
    {
     "name": "stdout",
     "output_type": "stream",
     "text": [
      "alpha  1 3.167464256286621 1.3195734024047852\n",
      "alpha  10 3.1673253377278647 1.3193697929382324\n",
      "alpha  100 3.172309239705404 1.3185890515645344\n",
      "alpha  1000 3.4331722259521484 1.3665776252746582\n"
     ]
    }
   ],
   "source": [
    "alpha = [1, 10, 100, 1000]\n",
    "\n",
    "for a in alpha:\n",
    "    ridge_regression_model = Ridge(alpha=a)\n",
    "    mse1, mae1 = train_test_model(ridge_regression_model, np.concatenate((train_data1, train_data2)),\n",
    "                             np.concatenate((prices1, prices2)), train_data3, prices3)\n",
    "\n",
    "    mse2, mae2 = train_test_model(ridge_regression_model, np.concatenate((train_data1, train_data3)),\n",
    "                                 np.concatenate((prices1, prices3)), train_data2, prices2)\n",
    "    \n",
    "    mse3, mae3 = train_test_model(ridge_regression_model, np.concatenate((train_data2, train_data3)),\n",
    "                                 np.concatenate((prices2, prices3)), train_data1, prices1)\n",
    "\n",
    "    MSE = (mse1 + mse2 + mse3) / 3\n",
    "    MAE = (mae1 + mae2 + mae3) / 3\n",
    "    print('alpha ', a, MSE, MAE)\n"
   ]
  },
  {
   "cell_type": "code",
   "execution_count": 49,
   "id": "68455f98",
   "metadata": {},
   "outputs": [
    {
     "name": "stdout",
     "output_type": "stream",
     "text": [
      "[ 1.6635205  -0.15533487 -0.4603492   0.40462962  1.3356842   0.13251224\n",
      " -0.08683416  0.          0.36666897 -0.36666256  0.          0.\n",
      " -0.22937056  0.22937447]\n"
     ]
    },
    {
     "data": {
      "text/plain": [
       "0"
      ]
     },
     "execution_count": 49,
     "metadata": {},
     "output_type": "execute_result"
    }
   ],
   "source": [
    "best_alpha = 10\n",
    "\n",
    "model = Ridge(alpha=best_alpha)\n",
    "train_data = normalizer(train_data)\n",
    "model.fit(train_data, prices)\n",
    "coef = model.coef_\n",
    "\n",
    "print(coef)\n",
    "np.argmax(np.abs(coef))"
   ]
  },
  {
   "cell_type": "code",
   "execution_count": null,
   "id": "68cd16c6",
   "metadata": {},
   "outputs": [],
   "source": []
  }
 ],
 "metadata": {
  "kernelspec": {
   "display_name": "Python 3 (ipykernel)",
   "language": "python",
   "name": "python3"
  },
  "language_info": {
   "codemirror_mode": {
    "name": "ipython",
    "version": 3
   },
   "file_extension": ".py",
   "mimetype": "text/x-python",
   "name": "python",
   "nbconvert_exporter": "python",
   "pygments_lexer": "ipython3",
   "version": "3.9.7"
  }
 },
 "nbformat": 4,
 "nbformat_minor": 5
}
