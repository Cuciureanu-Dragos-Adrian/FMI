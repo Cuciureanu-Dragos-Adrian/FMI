{
 "cells": [
  {
   "cell_type": "code",
   "execution_count": 1,
   "id": "7c93acac",
   "metadata": {},
   "outputs": [],
   "source": [
    "#importing the modules we need\n",
    "from sklearn import preprocessing\n",
    "import numpy as np\n",
    "from sklearn import svm"
   ]
  },
  {
   "cell_type": "code",
   "execution_count": 2,
   "id": "320bbb38",
   "metadata": {},
   "outputs": [],
   "source": [
    "# the normalize function\n",
    "def normalize_data(data, type1=None):\n",
    "    scaler = None\n",
    "\n",
    "    if type1 == 'standard':\n",
    "        scaler = preprocessing.StandardScaler()\n",
    "        scaler.fit(data)\n",
    "        \n",
    "        scaled_data = scaler.transform(data)\n",
    "        return scaled_data\n",
    "    \n",
    "    elif type1 == 'l1':\n",
    "        scaler = preprocessing.Normalizer(norm='l1')\n",
    "        scaler.fit(data)\n",
    "        \n",
    "        scaled_data = scaler.transform(data)\n",
    "        return scaled_data\n",
    "            \n",
    "    elif type1 == 'l2':\n",
    "        scaler = preprocessing.Normalizer(norm='l2')\n",
    "        scaler.fit(data)\n",
    "        \n",
    "        scaled_data = scaler.transform(data)\n",
    "        return scaled_data"
   ]
  },
  {
   "cell_type": "code",
   "execution_count": 3,
   "id": "d155a66a",
   "metadata": {},
   "outputs": [],
   "source": [
    "#bag of words class, made during ml lab\n",
    "class BagOfWords:\n",
    "    def __init__(self):\n",
    "        self.vocabulary = {}\n",
    "        self.words = []\n",
    "        self.vocabulary_len = 0\n",
    "        \n",
    "        \n",
    "    def build_vocabulary(self, data):\n",
    "        for document in data:\n",
    "            for word in document:\n",
    "                if word not in self.vocabulary:\n",
    "                    self.vocabulary[word] = len(self.vocabulary)\n",
    "                    self.words.append(word)\n",
    "                    \n",
    "            self.vocabulary_len = len(self.vocabulary)\n",
    "            \n",
    "    def get_features(self, data):\n",
    "        features = np.zeros((len(data), self.vocabulary_len))\n",
    "        \n",
    "        for id_sen, document in enumerate(data):\n",
    "            for word in document:\n",
    "                if word in self.vocabulary:\n",
    "                    features[id_sen, self.vocabulary[word]] += 1\n",
    "                    \n",
    "        return features"
   ]
  },
  {
   "cell_type": "code",
   "execution_count": 4,
   "id": "bb0bc258",
   "metadata": {},
   "outputs": [],
   "source": [
    "#getting the data\n",
    "def load_sample(file_name):\n",
    "    f = open(file_name, 'r', encoding='utf8')\n",
    "    \n",
    "    indexes = []\n",
    "    sentences = []\n",
    "    \n",
    "    for line in f.readlines():\n",
    "        indexes.append(int(\"\".join(line[:6])))\n",
    "        sentences.append(line[7:].strip('\\n').split())\n",
    "        \n",
    "    return indexes, sentences\n",
    "\n",
    "\n",
    "def load_label(file_name):\n",
    "    f = open(file_name, 'r', encoding='utf8')\n",
    "    \n",
    "    sentences = []\n",
    "    \n",
    "    for line in f.readlines():\n",
    "        sentences.append(int(line[7]))\n",
    "        \n",
    "    return sentences"
   ]
  },
  {
   "cell_type": "code",
   "execution_count": 5,
   "id": "78e695ce",
   "metadata": {},
   "outputs": [],
   "source": [
    "#train data\n",
    "train_indexes, train_samples = load_sample(\"data/train_samples.txt\")\n",
    "train_labels = load_label(\"data/train_labels.txt\")\n",
    "\n",
    "#validation data\n",
    "validation_indexes, validation_samples = load_sample(\"data/validation_samples.txt\")\n",
    "validation_labels = load_label(\"data/validation_labels.txt\")\n",
    "\n",
    "#test data\n",
    "test_indexes, test_samples = load_sample(\"data/test_samples.txt\")"
   ]
  },
  {
   "cell_type": "code",
   "execution_count": 6,
   "id": "3cee7199",
   "metadata": {},
   "outputs": [],
   "source": [
    "bow = BagOfWords()\n",
    "bow.build_vocabulary(train_samples)\n",
    "\n",
    "train_features = bow.get_features(train_samples)\n",
    "validation_features = bow.get_features(validation_samples)\n",
    "test_features = bow.get_features(test_samples)\n",
    "\n",
    "train_features_norm = normalize_data(train_features, type1='l2')\n",
    "validation_features_norm = normalize_data(validation_features, type1='l2')\n",
    "test_features_norm = normalize_data(test_features, type1='standard')"
   ]
  },
  {
   "cell_type": "code",
   "execution_count": 2,
   "id": "af731774",
   "metadata": {},
   "outputs": [
    {
     "ename": "NameError",
     "evalue": "name 'svm' is not defined",
     "output_type": "error",
     "traceback": [
      "\u001b[1;31m---------------------------------------------------------------------------\u001b[0m",
      "\u001b[1;31mNameError\u001b[0m                                 Traceback (most recent call last)",
      "\u001b[1;32mc:\\Users\\Adi\\Desktop\\cs\\lab ML\\proiect\\proiect_svm_bow_v1.ipynb Cell 7'\u001b[0m in \u001b[0;36m<cell line: 1>\u001b[1;34m()\u001b[0m\n\u001b[1;32m----> <a href='vscode-notebook-cell:/c%3A/Users/Adi/Desktop/cs/lab%20ML/proiect/proiect_svm_bow_v1.ipynb#ch0000006?line=0'>1</a>\u001b[0m svm_model \u001b[39m=\u001b[39m svm\u001b[39m.\u001b[39mSVC(C\u001b[39m=\u001b[39m\u001b[39m1\u001b[39m, kernel\u001b[39m=\u001b[39m\u001b[39m'\u001b[39m\u001b[39mrbf\u001b[39m\u001b[39m'\u001b[39m, max_iter\u001b[39m=\u001b[39m\u001b[39m1000\u001b[39m)\n\u001b[0;32m      <a href='vscode-notebook-cell:/c%3A/Users/Adi/Desktop/cs/lab%20ML/proiect/proiect_svm_bow_v1.ipynb#ch0000006?line=1'>2</a>\u001b[0m svm_model\u001b[39m.\u001b[39mfit(train_features, train_labels)\n",
      "\u001b[1;31mNameError\u001b[0m: name 'svm' is not defined"
     ]
    }
   ],
   "source": [
    "svm_model = svm.SVC(C=1, kernel='rbf', max_iter=1000)\n",
    "svm_model.fit(train_features, train_labels)"
   ]
  },
  {
   "cell_type": "code",
   "execution_count": 1,
   "id": "84b5f92e",
   "metadata": {},
   "outputs": [
    {
     "ename": "NameError",
     "evalue": "name 'svm_model' is not defined",
     "output_type": "error",
     "traceback": [
      "\u001b[1;31m---------------------------------------------------------------------------\u001b[0m",
      "\u001b[1;31mNameError\u001b[0m                                 Traceback (most recent call last)",
      "\u001b[1;32mc:\\Users\\Adi\\Desktop\\cs\\lab ML\\proiect\\proiect_svm_bow_v1.ipynb Cell 8'\u001b[0m in \u001b[0;36m<cell line: 1>\u001b[1;34m()\u001b[0m\n\u001b[1;32m----> <a href='vscode-notebook-cell:/c%3A/Users/Adi/Desktop/cs/lab%20ML/proiect/proiect_svm_bow_v1.ipynb#ch0000007?line=0'>1</a>\u001b[0m predicted \u001b[39m=\u001b[39m svm_model\u001b[39m.\u001b[39mpredict(validation_features)\n\u001b[0;32m      <a href='vscode-notebook-cell:/c%3A/Users/Adi/Desktop/cs/lab%20ML/proiect/proiect_svm_bow_v1.ipynb#ch0000007?line=2'>3</a>\u001b[0m \u001b[39mprint\u001b[39m(np\u001b[39m.\u001b[39mmean(predicted \u001b[39m==\u001b[39m validation_labels))\n",
      "\u001b[1;31mNameError\u001b[0m: name 'svm_model' is not defined"
     ]
    }
   ],
   "source": [
    "predicted = svm_model.predict(validation_features)\n",
    "\n",
    "print(np.mean(predicted == validation_labels))"
   ]
  },
  {
   "cell_type": "code",
   "execution_count": null,
   "id": "d9cae689",
   "metadata": {},
   "outputs": [],
   "source": [
    "predicted = svm_model.predict(test_features_norm)\n",
    "\n",
    "g = open(\"data/test_labels.txt\", 'w')\n",
    "g.write(\"id,label\\n\")\n",
    "\n",
    "for idx in range(len(predicted)):\n",
    "    g.write(f\"{test_indexes[idx]},{predicted[idx]}\\n\")"
   ]
  },
  {
   "cell_type": "code",
   "execution_count": null,
   "id": "303579a0",
   "metadata": {},
   "outputs": [
    {
     "name": "stdout",
     "output_type": "stream",
     "text": [
      "52590\n"
     ]
    }
   ],
   "source": [
    "print(len(bow.vocabulary))"
   ]
  }
 ],
 "metadata": {
  "interpreter": {
   "hash": "9a4964d88720c51dda84fe9dfbec9cc92790b72b0c59d52ff793336d33f35592"
  },
  "kernelspec": {
   "display_name": "Python 3.10.4 64-bit (windows store)",
   "language": "python",
   "name": "python3"
  },
  "language_info": {
   "codemirror_mode": {
    "name": "ipython",
    "version": 3
   },
   "file_extension": ".py",
   "mimetype": "text/x-python",
   "name": "python",
   "nbconvert_exporter": "python",
   "pygments_lexer": "ipython3",
   "version": "3.10.4"
  }
 },
 "nbformat": 4,
 "nbformat_minor": 5
}
