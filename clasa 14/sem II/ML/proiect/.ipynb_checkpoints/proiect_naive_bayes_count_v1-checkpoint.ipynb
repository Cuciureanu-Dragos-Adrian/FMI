{
 "cells": [
  {
   "cell_type": "code",
   "execution_count": 26,
   "id": "f16b3afb",
   "metadata": {},
   "outputs": [],
   "source": [
    "from sklearn.feature_extraction.text import CountVectorizer\n",
    "from sklearn.naive_bayes import MultinomialNB\n",
    "from sklearn.metrics import accuracy_score"
   ]
  },
  {
   "cell_type": "code",
   "execution_count": 27,
   "id": "3474bcfe",
   "metadata": {},
   "outputs": [],
   "source": [
    "#getting the data\n",
    "def load_file(file_name, r_idx = False):\n",
    "    f = open(file_name, 'r', encoding='utf8')\n",
    "    \n",
    "    indexes = []\n",
    "    sentences = []\n",
    "    \n",
    "    for line in f.readlines():\n",
    "        indexes.append(line[:6])\n",
    "        sentences.append(line[7:].strip('\\n').split())\n",
    "    \n",
    "        \n",
    "    if r_idx == True:\n",
    "        return indexes, sentences\n",
    "    else: \n",
    "        return sentences\n",
    "\n",
    "\n",
    "#train data\n",
    "train_indexes, train_samples = load_file(\"data/train_samples.txt\", True)\n",
    "train_labels = load_file(\"data/train_labels.txt\")\n",
    "\n",
    "#validation data\n",
    "validation_indexes, validation_samples = load_file(\"data/validation_samples.txt\", True)\n",
    "validation_labels = load_file(\"data/validation_labels.txt\")\n",
    "\n",
    "#test data\n",
    "test_indexes, test_samples = load_file(\"data/test_samples.txt\", True)"
   ]
  },
  {
   "cell_type": "code",
   "execution_count": 28,
   "id": "f13e11dd",
   "metadata": {},
   "outputs": [],
   "source": [
    "#initialize the naive bayes model\n",
    "naive_bayes_model = MultinomialNB()\n",
    "\n",
    "#initialize the count vector for our words\n",
    "count_vector = CountVectorizer(analyzer='word', token_pattern=r'\\w{1,}')\n",
    "vocabulary = train_samples + validation_samples + test_samples\n",
    "count_vector.fit(vocabulary)\n",
    "    \n",
    "    \n",
    "#realize the count\n",
    "train_samples_count = count_vector.transform(train_samples)\n",
    "validation_samples_count = count_vector.transform(validation_samples)\n",
    "test_samples_count = count_vector.transform(test_samples)"
   ]
  },
  {
   "cell_type": "code",
   "execution_count": 29,
   "id": "3a62d2e6",
   "metadata": {},
   "outputs": [
    {
     "data": {
      "text/plain": [
       "MultinomialNB()"
      ]
     },
     "execution_count": 29,
     "metadata": {},
     "output_type": "execute_result"
    }
   ],
   "source": [
    "#train the model\n",
    "naive_bayes_model = MultinomialNB()\n",
    "naive_bayes_model.fit(train_samples_count, train_labels)"
   ]
  },
  {
   "cell_type": "code",
   "execution_count": 30,
   "id": "53e472b6",
   "metadata": {},
   "outputs": [
    {
     "name": "stdout",
     "output_type": "stream",
     "text": [
      "0.6844\n"
     ]
    }
   ],
   "source": [
    "#get the prediction on the validation data\n",
    "predicted = naive_bayes_model.predict(validation_samples_count)\n",
    "\n",
    "print(accuracy_score(predicted, validation_labels))"
   ]
  },
  {
   "cell_type": "code",
   "execution_count": 32,
   "id": "bf05501a",
   "metadata": {},
   "outputs": [],
   "source": [
    "#get the prediction on the test data\n",
    "predicted = naive_bayes_model.predict(test_samples_count)\n",
    "\n",
    "#and write it in the csv\n",
    "g = open(\"data/test_labels.txt\", 'w')\n",
    "g.write(\"id,label\\n\")\n",
    "\n",
    "for idx in range(len(predicted)):\n",
    "    g.write(f\"{test_indexes[idx]},{predicted[idx]}\\n\")"
   ]
  },
  {
   "cell_type": "code",
   "execution_count": 33,
   "id": "4854df46",
   "metadata": {},
   "outputs": [
    {
     "name": "stdout",
     "output_type": "stream",
     "text": [
      "['2' '1' '2' '1' '2' '1' '1' '1' '2' '2']\n"
     ]
    }
   ],
   "source": [
    "print(predicted[:10])"
   ]
  },
  {
   "cell_type": "code",
   "execution_count": null,
   "id": "f75e0280",
   "metadata": {},
   "outputs": [],
   "source": []
  }
 ],
 "metadata": {
  "kernelspec": {
   "display_name": "Python 3 (ipykernel)",
   "language": "python",
   "name": "python3"
  },
  "language_info": {
   "codemirror_mode": {
    "name": "ipython",
    "version": 3
   },
   "file_extension": ".py",
   "mimetype": "text/x-python",
   "name": "python",
   "nbconvert_exporter": "python",
   "pygments_lexer": "ipython3",
   "version": "3.9.7"
  }
 },
 "nbformat": 4,
 "nbformat_minor": 5
}
